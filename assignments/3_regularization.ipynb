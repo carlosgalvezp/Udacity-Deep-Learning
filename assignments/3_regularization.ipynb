{
 "cells": [
  {
   "cell_type": "markdown",
   "metadata": {
    "colab_type": "text",
    "id": "kR-4eNdK6lYS"
   },
   "source": [
    "Deep Learning\n",
    "=============\n",
    "\n",
    "Assignment 3\n",
    "------------\n",
    "\n",
    "Previously in `2_fullyconnected.ipynb`, you trained a logistic regression and a neural network model.\n",
    "\n",
    "The goal of this assignment is to explore regularization techniques."
   ]
  },
  {
   "cell_type": "code",
   "execution_count": 1,
   "metadata": {
    "cellView": "both",
    "colab": {
     "autoexec": {
      "startup": false,
      "wait_interval": 0
     }
    },
    "colab_type": "code",
    "collapsed": true,
    "id": "JLpLa8Jt7Vu4"
   },
   "outputs": [],
   "source": [
    "# These are all the modules we'll be using later. Make sure you can import them\n",
    "# before proceeding further.\n",
    "from __future__ import print_function\n",
    "import numpy as np\n",
    "import tensorflow as tf\n",
    "from sklearn.utils import shuffle\n",
    "from six.moves import cPickle as pickle"
   ]
  },
  {
   "cell_type": "markdown",
   "metadata": {
    "colab_type": "text",
    "id": "1HrCK6e17WzV"
   },
   "source": [
    "First reload the data we generated in _notmist.ipynb_."
   ]
  },
  {
   "cell_type": "code",
   "execution_count": 2,
   "metadata": {
    "cellView": "both",
    "colab": {
     "autoexec": {
      "startup": false,
      "wait_interval": 0
     },
     "output_extras": [
      {
       "item_id": 1
      }
     ]
    },
    "colab_type": "code",
    "collapsed": false,
    "executionInfo": {
     "elapsed": 11777,
     "status": "ok",
     "timestamp": 1449849322348,
     "user": {
      "color": "",
      "displayName": "",
      "isAnonymous": false,
      "isMe": true,
      "permissionId": "",
      "photoUrl": "",
      "sessionId": "0",
      "userId": ""
     },
     "user_tz": 480
    },
    "id": "y3-cj1bpmuxc",
    "outputId": "e03576f1-ebbe-4838-c388-f1777bcc9873"
   },
   "outputs": [
    {
     "name": "stdout",
     "output_type": "stream",
     "text": [
      "Training set (200000, 28, 28) (200000,)\n",
      "Validation set (10000, 28, 28) (10000,)\n",
      "Test set (10000, 28, 28) (10000,)\n"
     ]
    }
   ],
   "source": [
    "pickle_file = 'notMNIST.pickle'\n",
    "\n",
    "with open(pickle_file, 'rb') as f:\n",
    "  save = pickle.load(f)\n",
    "  train_dataset = save['train_dataset']\n",
    "  train_labels = save['train_labels']\n",
    "  valid_dataset = save['valid_dataset']\n",
    "  valid_labels = save['valid_labels']\n",
    "  test_dataset = save['test_dataset']\n",
    "  test_labels = save['test_labels']\n",
    "  del save  # hint to help gc free up memory\n",
    "  print('Training set', train_dataset.shape, train_labels.shape)\n",
    "  print('Validation set', valid_dataset.shape, valid_labels.shape)\n",
    "  print('Test set', test_dataset.shape, test_labels.shape)"
   ]
  },
  {
   "cell_type": "markdown",
   "metadata": {
    "colab_type": "text",
    "id": "L7aHrm6nGDMB"
   },
   "source": [
    "Reformat into a shape that's more adapted to the models we're going to train:\n",
    "- data as a flat matrix,\n",
    "- labels as float 1-hot encodings."
   ]
  },
  {
   "cell_type": "code",
   "execution_count": 3,
   "metadata": {
    "cellView": "both",
    "colab": {
     "autoexec": {
      "startup": false,
      "wait_interval": 0
     },
     "output_extras": [
      {
       "item_id": 1
      }
     ]
    },
    "colab_type": "code",
    "collapsed": false,
    "executionInfo": {
     "elapsed": 11728,
     "status": "ok",
     "timestamp": 1449849322356,
     "user": {
      "color": "",
      "displayName": "",
      "isAnonymous": false,
      "isMe": true,
      "permissionId": "",
      "photoUrl": "",
      "sessionId": "0",
      "userId": ""
     },
     "user_tz": 480
    },
    "id": "IRSyYiIIGIzS",
    "outputId": "3f8996ee-3574-4f44-c953-5c8a04636582"
   },
   "outputs": [
    {
     "name": "stdout",
     "output_type": "stream",
     "text": [
      "Training set (200000, 784) (200000, 10)\n",
      "Validation set (10000, 784) (10000, 10)\n",
      "Test set (10000, 784) (10000, 10)\n"
     ]
    }
   ],
   "source": [
    "image_size = 28\n",
    "num_labels = 10\n",
    "\n",
    "def reformat(dataset, labels):\n",
    "  dataset = dataset.reshape((-1, image_size * image_size)).astype(np.float32)\n",
    "  # Map 1 to [0.0, 1.0, 0.0 ...], 2 to [0.0, 0.0, 1.0 ...]\n",
    "  labels = (np.arange(num_labels) == labels[:,None]).astype(np.float32)\n",
    "  return dataset, labels\n",
    "train_dataset, train_labels = reformat(train_dataset, train_labels)\n",
    "valid_dataset, valid_labels = reformat(valid_dataset, valid_labels)\n",
    "test_dataset, test_labels = reformat(test_dataset, test_labels)\n",
    "print('Training set', train_dataset.shape, train_labels.shape)\n",
    "print('Validation set', valid_dataset.shape, valid_labels.shape)\n",
    "print('Test set', test_dataset.shape, test_labels.shape)"
   ]
  },
  {
   "cell_type": "markdown",
   "metadata": {},
   "source": [
    "## Utility functions"
   ]
  },
  {
   "cell_type": "code",
   "execution_count": 4,
   "metadata": {
    "collapsed": true
   },
   "outputs": [],
   "source": [
    "def create_weights(shape):\n",
    "    return tf.Variable(tf.truncated_normal(shape = shape, stddev = 0.05))\n",
    "\n",
    "def create_biases(shape):\n",
    "    return tf.Variable(tf.zeros(shape = shape))"
   ]
  },
  {
   "cell_type": "code",
   "execution_count": 5,
   "metadata": {
    "collapsed": true
   },
   "outputs": [],
   "source": [
    "def fully_connected(input_layer, n_outputs, use_relu = False):\n",
    "    n_inputs = input_layer.get_shape()[1]\n",
    "    \n",
    "    weights = create_weights(shape = (n_inputs, n_outputs))\n",
    "    biases = create_biases(shape = (n_outputs))\n",
    "\n",
    "    layer = tf.matmul(input_layer, weights)\n",
    "    layer = tf.nn.bias_add(layer, biases)\n",
    "    \n",
    "    if use_relu:\n",
    "        layer = tf.nn.relu(layer)\n",
    "        \n",
    "    return layer"
   ]
  },
  {
   "cell_type": "code",
   "execution_count": 6,
   "metadata": {
    "collapsed": true
   },
   "outputs": [],
   "source": [
    "def accuracy(predictions, labels):\n",
    "    return (100.0 * np.sum(np.argmax(predictions, 1) == np.argmax(labels, 1)) / predictions.shape[0])"
   ]
  },
  {
   "cell_type": "code",
   "execution_count": 7,
   "metadata": {
    "collapsed": false
   },
   "outputs": [],
   "source": [
    "class Network(object):\n",
    "    def __init__(self, session, input_size, output_size):\n",
    "        # TF session\n",
    "        self.session = session\n",
    "        \n",
    "        # Define placeholders\n",
    "        self.input_ph = tf.placeholder(tf.float32, shape=(None, input_size))\n",
    "        self.output_ph = tf.placeholder(tf.float32, shape=(None, output_size))\n",
    "        self.dropout_ph = tf.placeholder(tf.float32)\n",
    "        self.dropout_keep_p = 1.0\n",
    "        \n",
    "        # Define must-haves\n",
    "        self.optimizer = None\n",
    "        self.loss = None\n",
    "        self.prediction = None\n",
    "                \n",
    "    def train(self, X_train, y_train, X_val, y_val):\n",
    "        # Define training parameters\n",
    "        batch_size = 128\n",
    "        n_epochs = 3000\n",
    "        \n",
    "        # Initialize variables\n",
    "        self.session.run(tf.global_variables_initializer())\n",
    "        \n",
    "        \n",
    "        for epoch in range(n_epochs):\n",
    "            # Shuffle data\n",
    "            shuffle(X_train, y_train)\n",
    "            \n",
    "            # Create mini-batch\n",
    "            offset = (epoch * batch_size) % (X_train.shape[0] - batch_size)\n",
    "            x_batch = X_train[offset:(offset + batch_size)]\n",
    "            y_batch = y_train[offset:(offset + batch_size)]\n",
    "    \n",
    "            # Run optimizer\n",
    "            feed_dict = {self.input_ph : x_batch, self.output_ph : y_batch, self.dropout_ph: self.dropout_keep_p}\n",
    "            _, l, predictions = self.session.run([self.optimizer, self.loss, self.prediction],\n",
    "                                                 feed_dict=feed_dict)\n",
    "\n",
    "            if (epoch % 500 == 0):\n",
    "              print(\"Minibatch loss at epoch %d: %f\" % (epoch, l))\n",
    "              print(\"Minibatch accuracy: %.1f%%\" % accuracy(predictions, y_batch))\n",
    "\n",
    "              validation_predictions = self.session.run(self.prediction,\n",
    "                                                        feed_dict={self.input_ph: X_val, self.output_ph: y_val,\n",
    "                                                                   self.dropout_ph: 1.0})\n",
    "              print(\"Validation accuracy: %.1f%%\" % accuracy(validation_predictions, y_val))\n",
    "    \n",
    "    def evaluate(self, X_test, y_test):\n",
    "        test_predictions = self.session.run(self.prediction,\n",
    "                                            feed_dict={self.input_ph: X_test, self.output_ph: y_test,\n",
    "                                                       self.dropout_ph: 1.0})\n",
    "        print(\"Test accuracy: %.1f%%\" % accuracy(test_predictions, y_test))"
   ]
  },
  {
   "cell_type": "code",
   "execution_count": 8,
   "metadata": {
    "collapsed": false
   },
   "outputs": [],
   "source": [
    "class Perceptron(Network):\n",
    "    def __init__(self, session, input_size, output_size, l2 = 0.0):\n",
    "        super(Perceptron, self).__init__(session, input_size, output_size)\n",
    "        \n",
    "        # Construct network\n",
    "        w = create_weights(shape = (input_size, output_size))\n",
    "        b = create_biases(shape = (output_size))\n",
    "        \n",
    "        logits = tf.matmul(self.input_ph, w)\n",
    "        logits = tf.nn.bias_add(logits, b)\n",
    "        \n",
    "        self.loss = tf.reduce_mean(tf.nn.softmax_cross_entropy_with_logits(logits, self.output_ph))\n",
    "\n",
    "        # Add regularization\n",
    "        self.loss = self.loss + l2 * tf.nn.l2_loss(w)\n",
    "        \n",
    "        # Define outputs\n",
    "        self.optimizer = tf.train.GradientDescentOptimizer(0.5).minimize(self.loss)\n",
    "        self.prediction = tf.nn.softmax(logits)"
   ]
  },
  {
   "cell_type": "code",
   "execution_count": 9,
   "metadata": {
    "collapsed": false
   },
   "outputs": [],
   "source": [
    "class OneHiddenLayerNetwork(Network):\n",
    "    def __init__(self, session, input_size, output_size, l2 = 0.0, dropout_keep_p = 1.0):\n",
    "        super(OneHiddenLayerNetwork, self).__init__(session, input_size, output_size)\n",
    "        \n",
    "        # Define dropout placeholder\n",
    "        self.dropout_keep_p = dropout_keep_p\n",
    "        \n",
    "        # Construct network\n",
    "        # First layer\n",
    "        size1 = 1024\n",
    "        w1 = create_weights(shape = (input_size, size1))\n",
    "        b1 = create_biases(shape = (size1))\n",
    "        \n",
    "        logits = tf.matmul(self.input_ph, w1)\n",
    "        logits = tf.nn.bias_add(logits, b1)\n",
    "        \n",
    "        logits = tf.nn.relu(logits)\n",
    "        \n",
    "        logits = tf.nn.dropout(logits, self.dropout_ph)\n",
    "        \n",
    "        # Second layer\n",
    "        size2 = output_size\n",
    "        \n",
    "        w2 = create_weights(shape = (size1, size2))\n",
    "        b2 = create_biases(shape = (size2))\n",
    "        \n",
    "        logits = tf.matmul(logits, w2)\n",
    "        logits = tf.nn.bias_add(logits, b2)\n",
    "        \n",
    "        self.loss = tf.reduce_mean(tf.nn.softmax_cross_entropy_with_logits(logits, self.output_ph))\n",
    "\n",
    "        # Add regularization\n",
    "        self.loss = self.loss + l2 * (tf.nn.l2_loss(w1) + tf.nn.l2_loss(w2))\n",
    "        \n",
    "        # Define outputs\n",
    "        self.optimizer = tf.train.GradientDescentOptimizer(0.5).minimize(self.loss)\n",
    "        self.prediction = tf.nn.softmax(logits)"
   ]
  },
  {
   "cell_type": "markdown",
   "metadata": {
    "colab_type": "text",
    "id": "sgLbUAQ1CW-1"
   },
   "source": [
    "---\n",
    "Problem 1\n",
    "---------\n",
    "\n",
    "Introduce and tune L2 regularization for both logistic and neural network models. Remember that L2 amounts to adding a penalty on the norm of the weights to the loss. In TensorFlow, you can compute the L2 loss for a tensor `t` using `nn.l2_loss(t)`. The right amount of regularization should improve your validation / test accuracy.\n",
    "\n",
    "---"
   ]
  },
  {
   "cell_type": "code",
   "execution_count": 10,
   "metadata": {
    "collapsed": false,
    "scrolled": true
   },
   "outputs": [
    {
     "name": "stdout",
     "output_type": "stream",
     "text": [
      "Minibatch loss at epoch 0: 2.527616\n",
      "Minibatch accuracy: 8.6%\n",
      "Validation accuracy: 42.5%\n",
      "Minibatch loss at epoch 500: 0.662686\n",
      "Minibatch accuracy: 83.6%\n",
      "Validation accuracy: 81.0%\n",
      "Minibatch loss at epoch 1000: 0.883597\n",
      "Minibatch accuracy: 77.3%\n",
      "Validation accuracy: 81.4%\n",
      "Minibatch loss at epoch 1500: 0.621865\n",
      "Minibatch accuracy: 85.2%\n",
      "Validation accuracy: 80.5%\n",
      "Minibatch loss at epoch 2000: 0.725370\n",
      "Minibatch accuracy: 81.2%\n",
      "Validation accuracy: 81.3%\n",
      "Minibatch loss at epoch 2500: 0.824558\n",
      "Minibatch accuracy: 82.0%\n",
      "Validation accuracy: 81.1%\n",
      "Test accuracy: 88.5%\n"
     ]
    }
   ],
   "source": [
    "with tf.Session() as session:\n",
    "    logistic_network = Perceptron(session,\n",
    "                                  input_size = train_dataset.shape[1],\n",
    "                                  output_size = train_labels.shape[1],\n",
    "                                  l2 = 0.01)\n",
    "    logistic_network.train(train_dataset, train_labels, valid_dataset, valid_labels)\n",
    "    logistic_network.evaluate(test_dataset, test_labels)"
   ]
  },
  {
   "cell_type": "code",
   "execution_count": 11,
   "metadata": {
    "collapsed": false,
    "scrolled": true
   },
   "outputs": [
    {
     "name": "stdout",
     "output_type": "stream",
     "text": [
      "Minibatch loss at epoch 0: 10.343893\n",
      "Minibatch accuracy: 12.5%\n",
      "Validation accuracy: 36.6%\n",
      "Minibatch loss at epoch 500: 0.744336\n",
      "Minibatch accuracy: 82.8%\n",
      "Validation accuracy: 83.3%\n",
      "Minibatch loss at epoch 1000: 0.817789\n",
      "Minibatch accuracy: 80.5%\n",
      "Validation accuracy: 83.2%\n",
      "Minibatch loss at epoch 1500: 0.640281\n",
      "Minibatch accuracy: 85.9%\n",
      "Validation accuracy: 83.2%\n",
      "Minibatch loss at epoch 2000: 0.720172\n",
      "Minibatch accuracy: 83.6%\n",
      "Validation accuracy: 83.5%\n",
      "Minibatch loss at epoch 2500: 0.756158\n",
      "Minibatch accuracy: 87.5%\n",
      "Validation accuracy: 83.2%\n",
      "Test accuracy: 90.5%\n"
     ]
    }
   ],
   "source": [
    "with tf.Session() as session:\n",
    "    neural_network = OneHiddenLayerNetwork(session,\n",
    "                                          input_size = train_dataset.shape[1],\n",
    "                                          output_size = train_labels.shape[1],\n",
    "                                          l2 = 0.01)\n",
    "    neural_network.train(train_dataset, train_labels, valid_dataset, valid_labels)\n",
    "    neural_network.evaluate(test_dataset, test_labels)"
   ]
  },
  {
   "cell_type": "markdown",
   "metadata": {
    "colab_type": "text",
    "id": "na8xX2yHZzNF"
   },
   "source": [
    "---\n",
    "Problem 2\n",
    "---------\n",
    "Let's demonstrate an extreme case of overfitting. Restrict your training data to just a few batches. What happens?\n",
    "\n",
    "---"
   ]
  },
  {
   "cell_type": "code",
   "execution_count": 12,
   "metadata": {
    "collapsed": false
   },
   "outputs": [
    {
     "name": "stdout",
     "output_type": "stream",
     "text": [
      "Minibatch loss at epoch 0: 2.467968\n",
      "Minibatch accuracy: 7.8%\n",
      "Validation accuracy: 45.4%\n",
      "Minibatch loss at epoch 500: 0.022024\n",
      "Minibatch accuracy: 100.0%\n",
      "Validation accuracy: 75.0%\n",
      "Minibatch loss at epoch 1000: 0.009938\n",
      "Minibatch accuracy: 100.0%\n",
      "Validation accuracy: 74.9%\n",
      "Minibatch loss at epoch 1500: 0.005737\n",
      "Minibatch accuracy: 100.0%\n",
      "Validation accuracy: 74.8%\n",
      "Minibatch loss at epoch 2000: 0.005356\n",
      "Minibatch accuracy: 100.0%\n",
      "Validation accuracy: 74.8%\n",
      "Minibatch loss at epoch 2500: 0.003934\n",
      "Minibatch accuracy: 100.0%\n",
      "Validation accuracy: 74.8%\n",
      "Test accuracy: 82.8%\n"
     ]
    }
   ],
   "source": [
    "with tf.Session() as session:\n",
    "    n_samples = 512\n",
    "    logistic_network = Perceptron(session,\n",
    "                                  input_size = train_dataset.shape[1],\n",
    "                                  output_size = train_labels.shape[1],\n",
    "                                  l2 = 0.0)\n",
    "    logistic_network.train(train_dataset[0:n_samples], train_labels[0:n_samples],\n",
    "                           valid_dataset, valid_labels)\n",
    "    logistic_network.evaluate(test_dataset, test_labels)"
   ]
  },
  {
   "cell_type": "code",
   "execution_count": null,
   "metadata": {
    "collapsed": false
   },
   "outputs": [
    {
     "name": "stdout",
     "output_type": "stream",
     "text": [
      "Minibatch loss at epoch 0: 2.730868\n",
      "Minibatch accuracy: 10.2%\n",
      "Validation accuracy: 41.4%\n",
      "Minibatch loss at epoch 500: 0.716466\n",
      "Minibatch accuracy: 93.8%\n",
      "Validation accuracy: 76.2%\n",
      "Minibatch loss at epoch 1000: 0.721337\n",
      "Minibatch accuracy: 93.0%\n",
      "Validation accuracy: 76.9%\n",
      "Minibatch loss at epoch 1500: 0.666911\n",
      "Minibatch accuracy: 97.7%\n",
      "Validation accuracy: 73.9%\n",
      "Minibatch loss at epoch 2000: 0.715113\n",
      "Minibatch accuracy: 93.8%\n",
      "Validation accuracy: 76.4%\n",
      "Minibatch loss at epoch 2500: 0.721643\n",
      "Minibatch accuracy: 93.0%\n",
      "Validation accuracy: 77.0%\n",
      "Test accuracy: 83.7%\n"
     ]
    }
   ],
   "source": [
    "with tf.Session() as session:\n",
    "    n_samples = 512\n",
    "    logistic_network = Perceptron(session,\n",
    "                                  input_size = train_dataset.shape[1],\n",
    "                                  output_size = train_labels.shape[1],\n",
    "                                  l2 = 0.05)\n",
    "    logistic_network.train(train_dataset[0:n_samples], train_labels[0:n_samples],\n",
    "                           valid_dataset, valid_labels)\n",
    "    logistic_network.evaluate(test_dataset, test_labels)"
   ]
  },
  {
   "cell_type": "markdown",
   "metadata": {},
   "source": [
    "We observe that with l2 = 0.05 we obtain a slightly better accuracy in test set! From 82.7% to 83.7%"
   ]
  },
  {
   "cell_type": "markdown",
   "metadata": {
    "colab_type": "text",
    "id": "ww3SCBUdlkRc"
   },
   "source": [
    "---\n",
    "Problem 3\n",
    "---------\n",
    "Introduce Dropout on the hidden layer of the neural network. Remember: Dropout should only be introduced during training, not evaluation, otherwise your evaluation results would be stochastic as well. TensorFlow provides `nn.dropout()` for that, but you have to make sure it's only inserted during training.\n",
    "\n",
    "What happens to our extreme overfitting case?\n",
    "\n",
    "---"
   ]
  },
  {
   "cell_type": "code",
   "execution_count": null,
   "metadata": {
    "collapsed": false
   },
   "outputs": [
    {
     "name": "stdout",
     "output_type": "stream",
     "text": [
      "Minibatch loss at epoch 0: 2.584520\n",
      "Minibatch accuracy: 6.2%\n",
      "Validation accuracy: 37.0%\n",
      "Minibatch loss at epoch 500: 0.002095\n",
      "Minibatch accuracy: 100.0%\n",
      "Validation accuracy: 78.2%\n",
      "Minibatch loss at epoch 1000: 0.001065\n",
      "Minibatch accuracy: 100.0%\n",
      "Validation accuracy: 78.2%\n",
      "Minibatch loss at epoch 1500: 0.000541\n",
      "Minibatch accuracy: 100.0%\n",
      "Validation accuracy: 78.1%\n",
      "Minibatch loss at epoch 2000: 0.000425\n",
      "Minibatch accuracy: 100.0%\n",
      "Validation accuracy: 78.1%\n",
      "Minibatch loss at epoch 2500: 0.000374\n",
      "Minibatch accuracy: 100.0%\n",
      "Validation accuracy: 78.1%\n"
     ]
    }
   ],
   "source": [
    "with tf.Session() as session:\n",
    "    n_samples = 512\n",
    "\n",
    "    neural_network = OneHiddenLayerNetwork(session,\n",
    "                                          input_size = train_dataset.shape[1],\n",
    "                                          output_size = train_labels.shape[1],\n",
    "                                          dropout_keep_p = 1.0)\n",
    "    neural_network.train(train_dataset[0:n_samples], train_labels[0:n_samples],\n",
    "                         valid_dataset, valid_labels)\n",
    "    neural_network.evaluate(test_dataset, test_labels)"
   ]
  },
  {
   "cell_type": "code",
   "execution_count": null,
   "metadata": {
    "collapsed": false
   },
   "outputs": [],
   "source": [
    "with tf.Session() as session:\n",
    "    n_samples = 512\n",
    "\n",
    "    neural_network = OneHiddenLayerNetwork(session,\n",
    "                                          input_size = train_dataset.shape[1],\n",
    "                                          output_size = train_labels.shape[1],\n",
    "                                          dropout_keep_p = 0.5)\n",
    "    neural_network.train(train_dataset[0:n_samples], train_labels[0:n_samples],\n",
    "                         valid_dataset, valid_labels)\n",
    "    neural_network.evaluate(test_dataset, test_labels)"
   ]
  },
  {
   "cell_type": "markdown",
   "metadata": {},
   "source": [
    "We observe that with dropout of 0.5 we increase the test accuracy from 85.8% to 86.2%, slightly improving the overfitting."
   ]
  },
  {
   "cell_type": "markdown",
   "metadata": {
    "colab_type": "text",
    "id": "-b1hTz3VWZjw"
   },
   "source": [
    "---\n",
    "Problem 4\n",
    "---------\n",
    "\n",
    "Try to get the best performance you can using a multi-layer model! The best reported test accuracy using a deep network is [97.1%](http://yaroslavvb.blogspot.com/2011/09/notmnist-dataset.html?showComment=1391023266211#c8758720086795711595).\n",
    "\n",
    "One avenue you can explore is to add multiple layers.\n",
    "\n",
    "Another one is to use learning rate decay:\n",
    "\n",
    "    global_step = tf.Variable(0)  # count the number of steps taken.\n",
    "    learning_rate = tf.train.exponential_decay(0.5, global_step, ...)\n",
    "    optimizer = tf.train.GradientDescentOptimizer(learning_rate).minimize(loss, global_step=global_step)\n",
    " \n",
    " ---\n"
   ]
  }
 ],
 "metadata": {
  "colab": {
   "default_view": {},
   "name": "3_regularization.ipynb",
   "provenance": [],
   "version": "0.3.2",
   "views": {}
  },
  "kernelspec": {
   "display_name": "Python 3",
   "language": "python",
   "name": "python3"
  },
  "language_info": {
   "codemirror_mode": {
    "name": "ipython",
    "version": 3
   },
   "file_extension": ".py",
   "mimetype": "text/x-python",
   "name": "python",
   "nbconvert_exporter": "python",
   "pygments_lexer": "ipython3",
   "version": "3.5.2"
  }
 },
 "nbformat": 4,
 "nbformat_minor": 0
}
